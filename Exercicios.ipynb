{
  "nbformat": 4,
  "nbformat_minor": 0,
  "metadata": {
    "colab": {
      "provenance": [],
      "authorship_tag": "ABX9TyMTg75TbLaHPjklJsceyYgy",
      "include_colab_link": true
    },
    "kernelspec": {
      "name": "python3",
      "display_name": "Python 3"
    },
    "language_info": {
      "name": "python"
    }
  },
  "cells": [
    {
      "cell_type": "markdown",
      "metadata": {
        "id": "view-in-github",
        "colab_type": "text"
      },
      "source": [
        "<a href=\"https://colab.research.google.com/github/joelschutz/bahdatascience/blob/main/Exercicios.ipynb\" target=\"_parent\"><img src=\"https://colab.research.google.com/assets/colab-badge.svg\" alt=\"Open In Colab\"/></a>"
      ]
    },
    {
      "cell_type": "code",
      "execution_count": null,
      "metadata": {
        "colab": {
          "base_uri": "https://localhost:8080/"
        },
        "id": "OgzdcBHeZNma",
        "outputId": "9b3c3478-7340-4714-dc90-5212ecc139b5"
      },
      "outputs": [
        {
          "output_type": "execute_result",
          "data": {
            "text/plain": [
              "3144.222"
            ]
          },
          "metadata": {},
          "execution_count": 1
        }
      ],
      "source": [
        "valores = [2172.54, 3701.35, 3518.09, 3456.61, 3249.38, 2840.82, 3891.45, 3075.26, 2317.64, 3219.08]\n",
        "media = sum(valores)/len(valores)\n",
        "media"
      ]
    },
    {
      "cell_type": "code",
      "source": [
        "maiores = []\n",
        "for v in valores:\n",
        "  if v > 3000.0:\n",
        "    maiores.append(v)\n",
        "\n",
        "porcentagem = (len(maiores)/len(valores))*100\n",
        "\n",
        "print(f'Quantidade: {len(maiores)}, correspondente a {porcentagem}%')"
      ],
      "metadata": {
        "colab": {
          "base_uri": "https://localhost:8080/"
        },
        "id": "0H7It9KSZW6A",
        "outputId": "3d8970b5-b473-4500-d763-763a66ed14bc"
      },
      "execution_count": null,
      "outputs": [
        {
          "output_type": "stream",
          "name": "stdout",
          "text": [
            "Quantidade: 7, correspondente a 70.0%\n"
          ]
        }
      ]
    },
    {
      "cell_type": "code",
      "source": [
        "selecionados = []\n",
        "\n",
        "for _ in range(5):\n",
        "  v = input('Adicione um valor: ')\n",
        "  selecionados.append(int(v))\n",
        "\n",
        "selecionados[::-1]"
      ],
      "metadata": {
        "colab": {
          "base_uri": "https://localhost:8080/"
        },
        "id": "J21kPU1aa_L1",
        "outputId": "df08d974-2b32-48c8-dd43-a6eac24d31a1"
      },
      "execution_count": null,
      "outputs": [
        {
          "name": "stdout",
          "output_type": "stream",
          "text": [
            "Adicione um valor: 3\n",
            "Adicione um valor: 4\n",
            "Adicione um valor: 5\n",
            "Adicione um valor: 6\n",
            "Adicione um valor: 7\n"
          ]
        },
        {
          "output_type": "execute_result",
          "data": {
            "text/plain": [
              "[7, 6, 5, 4, 3]"
            ]
          },
          "metadata": {},
          "execution_count": 7
        }
      ]
    },
    {
      "cell_type": "code",
      "source": [
        "def is_prime(n):\n",
        "  for i in range(2,n):\n",
        "    resto = n%i\n",
        "    if resto == 0:\n",
        "      return False\n",
        "  return True\n",
        "\n",
        "ls = []\n",
        "\n",
        "max = input(\"Até qual numero?\")\n",
        "\n",
        "for i in range(2,int(max)):\n",
        "  if is_prime(i):\n",
        "    ls.append(i)\n",
        "\n",
        "ls"
      ],
      "metadata": {
        "colab": {
          "base_uri": "https://localhost:8080/"
        },
        "id": "DGFbw_kYb-LU",
        "outputId": "ab674741-bd5e-499f-82f8-c289707a3c4b"
      },
      "execution_count": null,
      "outputs": [
        {
          "name": "stdout",
          "output_type": "stream",
          "text": [
            "Até qual numero?54\n"
          ]
        },
        {
          "output_type": "execute_result",
          "data": {
            "text/plain": [
              "[2, 3, 5, 7, 11, 13, 17, 19, 23, 29, 31, 37, 41, 43, 47, 53]"
            ]
          },
          "metadata": {},
          "execution_count": 11
        }
      ]
    },
    {
      "cell_type": "code",
      "source": [
        "dia = int(input(\"Adicione o dia: \"))\n",
        "mes = int(input(\"Adicione o mes: \"))\n",
        "ano = int(input(\"Adicione o ano: \"))\n",
        "\n",
        "if 1 <= mes <= 12:\n",
        "  print(\"Mes valido\")\n",
        "else:\n",
        "  print(\"mes invalido\")\n",
        "\n",
        "if (mes in [4,6,9,11]) and (1<=dia<=30):\n",
        "  print(\"dia valido\")\n",
        "elif (mes in [1,3,5,7,8,10,12]) and (1<=dia<=31):\n",
        "  print(\"dia valido\")\n",
        "elif (mes == 2) and (1<=dia<=28):\n",
        "  print(\"dia valido\")\n",
        "else:\n",
        "  print(\"dia invalido\")\n",
        "\n",
        "if ano <= 2024:\n",
        "  print(\"ano valido\")\n",
        "else:\n",
        "  print(\"ano invalido\")\n"
      ],
      "metadata": {
        "colab": {
          "base_uri": "https://localhost:8080/"
        },
        "id": "1lWg7JAenu1P",
        "outputId": "1d068a36-fa29-400f-e0ec-aa77aa840a00"
      },
      "execution_count": null,
      "outputs": [
        {
          "output_type": "stream",
          "name": "stdout",
          "text": [
            "Adicione o dia: 14\n",
            "Adicione o mes: 14\n",
            "Adicione o ano: 14\n",
            "mes invalido\n",
            "dia invalido\n",
            "ano valido\n"
          ]
        }
      ]
    },
    {
      "cell_type": "code",
      "source": [
        "amostras = [1.2, 2.1, 3.3, 5.0, 7.8, 11.3, 16.6, 25.1, 37.8, 56.9]\n",
        "crescimento = []\n",
        "\n",
        "for i, a in enumerate(amostras):\n",
        "  if i != 0:\n",
        "    crescimento.append(100 * (a - amostras[i-1]) / (amostras[i-1]))\n",
        "\n",
        "crescimento"
      ],
      "metadata": {
        "colab": {
          "base_uri": "https://localhost:8080/"
        },
        "id": "p-fcQviFrvWd",
        "outputId": "b0c5edf4-0ef7-4c43-dfcb-1264103cee4b"
      },
      "execution_count": null,
      "outputs": [
        {
          "output_type": "execute_result",
          "data": {
            "text/plain": [
              "[75.00000000000001,\n",
              " 57.142857142857125,\n",
              " 51.51515151515153,\n",
              " 56.0,\n",
              " 44.87179487179489,\n",
              " 46.90265486725664,\n",
              " 51.20481927710843,\n",
              " 50.59760956175297,\n",
              " 50.52910052910054]"
            ]
          },
          "metadata": {},
          "execution_count": 16
        }
      ]
    },
    {
      "cell_type": "code",
      "source": [
        "def is_sweet(id):\n",
        "  if id % 2 == 0:\n",
        "    return True\n",
        "  else:\n",
        "    return False\n",
        "\n",
        "sweet = []\n",
        "sour = []\n",
        "\n",
        "for _ in range(10):\n",
        "  product = int(input('ID do produto: '))\n",
        "  if is_sweet(product):\n",
        "    sweet.append(product)\n",
        "  else:\n",
        "    sour.append(product)\n",
        "\n",
        "print(f\"Doces:{len(sweet)}, Amargos:{len(sour)}\")"
      ],
      "metadata": {
        "colab": {
          "base_uri": "https://localhost:8080/"
        },
        "id": "X9fdIeqVsy7W",
        "outputId": "23c0b7d1-4571-4c7f-edd7-bede39e5764e"
      },
      "execution_count": null,
      "outputs": [
        {
          "output_type": "stream",
          "name": "stdout",
          "text": [
            "ID do produto: 3\n",
            "ID do produto: 54\n",
            "ID do produto: 11\n",
            "ID do produto: 23\n",
            "ID do produto: 42\n",
            "ID do produto: 6\n",
            "ID do produto: 4\n",
            "ID do produto: 2\n",
            "ID do produto: 76\n",
            "ID do produto: 77\n",
            "Doces:6, Amargos:4\n"
          ]
        }
      ]
    },
    {
      "cell_type": "code",
      "source": [
        "gabarito = ['D','A','C','B','A','D','C','C','A','B']\n",
        "\n",
        "acertos = 0\n",
        "\n",
        "for i, r in enumerate(gabarito):\n",
        "  res = input(f\"Resposta para a questão {i+1}: \").upper()\n",
        "  if res == r:\n",
        "    acertos += 1\n",
        "\n",
        "print(f\"Numero de acertos: {acertos}\")"
      ],
      "metadata": {
        "colab": {
          "base_uri": "https://localhost:8080/"
        },
        "id": "cknUGdu2t_vC",
        "outputId": "f02049f6-0f25-4f08-de85-2b907caaa79e"
      },
      "execution_count": null,
      "outputs": [
        {
          "output_type": "stream",
          "name": "stdout",
          "text": [
            "Resposta para a questão 1: a\n",
            "Resposta para a questão 2: b\n",
            "Resposta para a questão 3: c\n",
            "Resposta para a questão 4: d\n",
            "Resposta para a questão 5: d\n",
            "Resposta para a questão 6: e\n",
            "Resposta para a questão 7: a\n",
            "Resposta para a questão 8: c\n",
            "Resposta para a questão 9: d\n",
            "Resposta para a questão 10: a\n",
            "Numero de acertos: 2\n"
          ]
        }
      ]
    }
  ]
}